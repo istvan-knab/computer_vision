{
 "cells": [
  {
   "cell_type": "markdown",
   "metadata": {},
   "source": [
    "<a href=\"https://www.pieriandata.com\"><img src=\"../DATA/Logo.jpg\"></a>"
   ]
  },
  {
   "cell_type": "markdown",
   "metadata": {},
   "source": [
    "# Direct Drawing with Mouse\n",
    "\n",
    "## NOTE: THESE SHOULD ALL BE RUN AS A .py SCRIPT. View video for full details."
   ]
  },
  {
   "cell_type": "markdown",
   "metadata": {},
   "source": [
    "## SCRIPT 1: Connecting a Function for Drawing"
   ]
  },
  {
   "cell_type": "code",
   "metadata": {
    "collapsed": true,
    "ExecuteTime": {
     "end_time": "2024-12-09T10:26:09.443027Z",
     "start_time": "2024-12-09T10:25:48.562746Z"
    }
   },
   "source": [
    "import cv2\n",
    "import numpy as np\n",
    "# Create a function based on a CV2 Event (Left button click)\n",
    "def draw_circle(event,x,y,flags,param):\n",
    "    if event == cv2.EVENT_LBUTTONDOWN:\n",
    "        cv2.circle(img,(x,y),100,(0,255,0),-1)\n",
    "\n",
    "# Create a black image\n",
    "img = np.zeros((512,512,3), np.uint8)\n",
    "# This names the window so we can reference it \n",
    "cv2.namedWindow(winname='my_drawing')\n",
    "# Connects the mouse button to our callback function\n",
    "cv2.setMouseCallback('my_drawing',draw_circle)\n",
    "\n",
    "while True: #Runs forever until we break with Esc key on keyboard\n",
    "    # Shows the image window\n",
    "    cv2.imshow('my_drawing',img)\n",
    "    # EXPLANATION FOR THIS LINE OF CODE:\n",
    "    # https://stackoverflow.com/questions/35372700/whats-0xff-for-in-cv2-waitkey1/39201163\n",
    "    if cv2.waitKey(20) & 0xFF == 27:\n",
    "        break\n",
    "# Once script is done, its usually good practice to call this line\n",
    "# It closes all windows (just in case you have multiple windows called)\n",
    "cv2.destroyAllWindows()\n"
   ],
   "outputs": [],
   "execution_count": 1
  },
  {
   "cell_type": "markdown",
   "metadata": {},
   "source": [
    "## SCRIPT 2: Adding Functionality with Event Choices"
   ]
  },
  {
   "cell_type": "markdown",
   "metadata": {},
   "source": [
    "---------"
   ]
  },
  {
   "cell_type": "code",
   "metadata": {
    "collapsed": true,
    "ExecuteTime": {
     "end_time": "2024-12-09T10:27:12.814226Z",
     "start_time": "2024-12-09T10:27:02.284156Z"
    }
   },
   "source": [
    "import cv2\n",
    "import numpy as np\n",
    "\n",
    "\n",
    "# Create a function based on a CV2 Event (Left button click)\n",
    "def draw_circle(event,x,y,flags,param):\n",
    "    if event == cv2.EVENT_LBUTTONDOWN:\n",
    "        cv2.circle(img,(x,y),100,(0,255,0),-1)\n",
    "    elif event == cv2.EVENT_RBUTTONDOWN:\n",
    "        cv2.circle(img,(x,y),100,(0,0,255),-1)\n",
    "        \n",
    "\n",
    "# Create a black image\n",
    "img = np.zeros((512,512,3), np.uint8)\n",
    "# This names the window so we can reference it \n",
    "cv2.namedWindow(winname='my_drawing')\n",
    "# Connects the mouse button to our callback function\n",
    "cv2.setMouseCallback('my_drawing',draw_circle)\n",
    "\n",
    "while True: #Runs forever until we break with Esc key on keyboard\n",
    "    # Shows the image window\n",
    "    cv2.imshow('my_drawing',img)\n",
    "    # EXPLANATION FOR THIS LINE OF CODE:\n",
    "    # https://stackoverflow.com/questions/35372700/whats-0xff-for-in-cv2-waitkey1/39201163\n",
    "    if cv2.waitKey(20) & 0xFF == 27:\n",
    "        break\n",
    "# Once script is done, its usually good practice to call this line\n",
    "# It closes all windows (just in case you have multiple windows called)\n",
    "cv2.destroyAllWindows()\n"
   ],
   "outputs": [],
   "execution_count": 3
  },
  {
   "cell_type": "markdown",
   "metadata": {},
   "source": [
    "# SCRIPT 3: Dragging with Mouse"
   ]
  },
  {
   "cell_type": "code",
   "metadata": {
    "ExecuteTime": {
     "end_time": "2024-12-09T12:49:37.808945Z",
     "start_time": "2024-12-09T12:49:18.960397Z"
    }
   },
   "source": [
    "import cv2\n",
    "import numpy as np\n",
    "\n",
    "\n",
    "# Create a function based on a CV2 Event (Left button click)\n",
    "drawing = False # True if mouse is pressed\n",
    "ix,iy = -1,-1\n",
    "\n",
    "# mouse callback function\n",
    "def draw_rectangle(event,x,y,flags,param):\n",
    "    global ix,iy,drawing,mode\n",
    "\n",
    "    if event == cv2.EVENT_LBUTTONDOWN:\n",
    "        # When you click DOWN with left mouse button drawing is set to True\n",
    "        drawing = True\n",
    "        # Then we take note of where that mouse was located\n",
    "        ix,iy = x,y\n",
    "\n",
    "    elif event == cv2.EVENT_MOUSEMOVE:\n",
    "        # Now the mouse is moving\n",
    "        if drawing == True:\n",
    "            # If drawing is True, it means you've already clicked on the left mouse button\n",
    "            # We draw a rectangle from the previous position to the x,y where the mouse is\n",
    "            cv2.rectangle(img,(ix,iy),(x,y),(0,255,0),-1)\n",
    "           \n",
    "\n",
    "    elif event == cv2.EVENT_LBUTTONUP:\n",
    "        # Once you lift the mouse button, drawing is False\n",
    "        drawing = False\n",
    "        # we complete the rectangle.\n",
    "        cv2.rectangle(img,(ix,iy),(x,y),(0,255,0),-1)\n",
    "        \n",
    "        \n",
    "\n",
    "# Create a black image\n",
    "img = np.zeros((512,512,3), np.uint8)\n",
    "# This names the window so we can reference it \n",
    "cv2.namedWindow(winname='my_drawing')\n",
    "# Connects the mouse button to our callback function\n",
    "cv2.setMouseCallback('my_drawing',draw_rectangle)\n",
    "\n",
    "while True: #Runs forever until we break with Esc key on keyboard\n",
    "    # Shows the image window\n",
    "    cv2.imshow('my_drawing',img)\n",
    "    # EXPLANATION FOR THIS LINE OF CODE:\n",
    "    # https://stackoverflow.com/questions/35372700/whats-0xff-for-in-cv2-waitkey1/39201163\n",
    "    \n",
    "    # CHECK TO SEE IF ESC WAS PRESSED ON KEYBOARD\n",
    "    if cv2.waitKey(1) & 0xFF == 27:\n",
    "        break\n",
    "# Once script is done, its usually good practice to call this line\n",
    "# It closes all windows (just in case you have multiple windows called)\n",
    "cv2.destroyAllWindows()"
   ],
   "outputs": [
    {
     "ename": "KeyboardInterrupt",
     "evalue": "",
     "output_type": "error",
     "traceback": [
      "\u001B[0;31m---------------------------------------------------------------------------\u001B[0m",
      "\u001B[0;31mKeyboardInterrupt\u001B[0m                         Traceback (most recent call last)",
      "Cell \u001B[0;32mIn[6], line 49\u001B[0m\n\u001B[1;32m     44\u001B[0m     cv2\u001B[38;5;241m.\u001B[39mimshow(\u001B[38;5;124m'\u001B[39m\u001B[38;5;124mmy_drawing\u001B[39m\u001B[38;5;124m'\u001B[39m,img)\n\u001B[1;32m     45\u001B[0m     \u001B[38;5;66;03m# EXPLANATION FOR THIS LINE OF CODE:\u001B[39;00m\n\u001B[1;32m     46\u001B[0m     \u001B[38;5;66;03m# https://stackoverflow.com/questions/35372700/whats-0xff-for-in-cv2-waitkey1/39201163\u001B[39;00m\n\u001B[1;32m     47\u001B[0m     \n\u001B[1;32m     48\u001B[0m     \u001B[38;5;66;03m# CHECK TO SEE IF ESC WAS PRESSED ON KEYBOARD\u001B[39;00m\n\u001B[0;32m---> 49\u001B[0m     \u001B[38;5;28;01mif\u001B[39;00m \u001B[43mcv2\u001B[49m\u001B[38;5;241;43m.\u001B[39;49m\u001B[43mwaitKey\u001B[49m\u001B[43m(\u001B[49m\u001B[38;5;241;43m1\u001B[39;49m\u001B[43m)\u001B[49m \u001B[38;5;241m&\u001B[39m \u001B[38;5;241m0xFF\u001B[39m \u001B[38;5;241m==\u001B[39m \u001B[38;5;241m27\u001B[39m:\n\u001B[1;32m     50\u001B[0m         \u001B[38;5;28;01mbreak\u001B[39;00m\n\u001B[1;32m     51\u001B[0m \u001B[38;5;66;03m# Once script is done, its usually good practice to call this line\u001B[39;00m\n\u001B[1;32m     52\u001B[0m \u001B[38;5;66;03m# It closes all windows (just in case you have multiple windows called)\u001B[39;00m\n",
      "\u001B[0;31mKeyboardInterrupt\u001B[0m: "
     ]
    }
   ],
   "execution_count": 6
  }
 ],
 "metadata": {
  "kernelspec": {
   "display_name": "Python 3",
   "language": "python",
   "name": "python3"
  },
  "language_info": {
   "codemirror_mode": {
    "name": "ipython",
    "version": 3
   },
   "file_extension": ".py",
   "mimetype": "text/x-python",
   "name": "python",
   "nbconvert_exporter": "python",
   "pygments_lexer": "ipython3",
   "version": "3.6.6"
  }
 },
 "nbformat": 4,
 "nbformat_minor": 2
}
