{
 "cells": [
  {
   "cell_type": "markdown",
   "metadata": {},
   "source": [
    "<a href=\"https://www.pieriandata.com\"><img src=\"../DATA/Logo.jpg\"></a>\n",
    "\n",
    "<em text-align:center>Copyright Pierian Data Inc.</em>"
   ]
  },
  {
   "cell_type": "markdown",
   "metadata": {},
   "source": [
    "# OpenCV with Video Files\n",
    "\n",
    "Let's now open the recorded video from the last lecture, the file is called \"video_capture.mp4\", although you can use this code to open any major video format."
   ]
  },
  {
   "cell_type": "code",
   "metadata": {
    "ExecuteTime": {
     "end_time": "2024-12-10T13:34:27.687794Z",
     "start_time": "2024-12-10T13:34:27.684849Z"
    }
   },
   "source": [
    "# Run everything in one cell!"
   ],
   "outputs": [],
   "execution_count": 1
  },
  {
   "cell_type": "code",
   "metadata": {
    "ExecuteTime": {
     "end_time": "2024-12-10T13:43:20.942212Z",
     "start_time": "2024-12-10T13:43:11.250955Z"
    }
   },
   "source": [
    "import cv2\n",
    "import time\n",
    "# Same command function as streaming, its just now we pass in the file path, nice!\n",
    "cap = cv2.VideoCapture('../DATA/video_capture.mp4')\n",
    "\n",
    "# FRAMES PER SECOND FOR VIDEO\n",
    "fps = 20\n",
    "\n",
    "# Always a good idea to check if the video was acutally there\n",
    "# If you get an error at thsi step, triple check your file path!!\n",
    "if cap.isOpened()== False: \n",
    "    print(\"Error opening the video file. Please double check your file path for typos. Or move the movie file to the same location as this script/notebook\")\n",
    "    \n",
    "\n",
    "# While the video is opened\n",
    "while cap.isOpened():\n",
    "\n",
    "    # Read the video file.\n",
    "    ret, frame = cap.read()\n",
    "    \n",
    "    # If we got frames, show them.\n",
    "    if ret == True:\n",
    "\n",
    "         # Display the frame at same frame rate of recording\n",
    "        # Watch lecture video for full explanation\n",
    "        time.sleep(1/fps)\n",
    "        cv2.imshow('frame',frame)\n",
    " \n",
    "        # Press q to quit\n",
    "        if cv2.waitKey(25) & 0xFF == ord('q'):\n",
    "            break\n",
    "\n",
    "    # Or automatically break this whole loop if the video is over.\n",
    "    else:\n",
    "        break\n",
    "        \n",
    "cap.release()\n",
    "# Closes all the frames\n",
    "cv2.destroyAllWindows()"
   ],
   "outputs": [],
   "execution_count": 9
  }
 ],
 "metadata": {
  "kernelspec": {
   "display_name": "Python 3",
   "language": "python",
   "name": "python3"
  },
  "language_info": {
   "codemirror_mode": {
    "name": "ipython",
    "version": 3
   },
   "file_extension": ".py",
   "mimetype": "text/x-python",
   "name": "python",
   "nbconvert_exporter": "python",
   "pygments_lexer": "ipython3",
   "version": "3.6.6"
  }
 },
 "nbformat": 4,
 "nbformat_minor": 2
}
